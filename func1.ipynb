{
 "cells": [
  {
   "cell_type": "markdown",
   "metadata": {},
   "source": [
    "1. Grams to Ounces"
   ]
  },
  {
   "cell_type": "code",
   "execution_count": null,
   "metadata": {},
   "outputs": [],
   "source": [
    "def to_ounces(n):\n",
    "    return n * 28.3495231\n",
    "\n",
    "print(to_ounces(2))"
   ]
  },
  {
   "cell_type": "markdown",
   "metadata": {},
   "source": [
    "2. F to C"
   ]
  },
  {
   "cell_type": "code",
   "execution_count": null,
   "metadata": {},
   "outputs": [],
   "source": [
    "def to_c (n):\n",
    "    return (5 / 9) * (n - 32)\n",
    "\n",
    "print(to_c(5))"
   ]
  },
  {
   "cell_type": "markdown",
   "metadata": {},
   "source": [
    "3. Rabbits and chickens"
   ]
  },
  {
   "cell_type": "code",
   "execution_count": null,
   "metadata": {},
   "outputs": [],
   "source": [
    "def solve(numheads, numlegs):\n",
    "    if  numlegs < numheads * 2 or numlegs % 2 != 0 or numlegs > 4 * numheads:\n",
    "        return \"Error\"\n",
    "    \n",
    "    rabbits = (numlegs - 2 * numheads) // 2\n",
    "    chickens = numheads - rabbits\n",
    "    \n",
    "    return rabbits, chickens \n",
    "\n",
    "print(solve(35,94))"
   ]
  },
  {
   "cell_type": "markdown",
   "metadata": {},
   "source": [
    "4. Prime list"
   ]
  },
  {
   "cell_type": "code",
   "execution_count": null,
   "metadata": {},
   "outputs": [],
   "source": [
    "def primes_list(nums):\n",
    "    primes = []\n",
    "    for i in nums:\n",
    "        count = 0\n",
    "        for j in range (2, int(i**0.5 + 1)):\n",
    "            if i % j == 0:\n",
    "                count += 1\n",
    "                \n",
    "        if count == 0 and i != 1:\n",
    "            primes.append(i)\n",
    "        \n",
    "        \n",
    "    \n",
    "    return primes\n",
    "    \n",
    "numbers = [1, 2, 3, 4, 5, 6, 7, 8, 9, 10, 11, 12, 13, 14, 15, 16, 17, 19, 21, 23, 24, 25, 26, 31]\n",
    "print(primes_list(numbers))"
   ]
  },
  {
   "cell_type": "markdown",
   "metadata": {},
   "source": [
    "5. Permutations "
   ]
  },
  {
   "cell_type": "code",
   "execution_count": 1,
   "metadata": {},
   "outputs": [
    {
     "name": "stdout",
     "output_type": "stream",
     "text": [
      "abc\n",
      "acb\n",
      "bac\n",
      "bca\n",
      "cab\n",
      "cba\n"
     ]
    }
   ],
   "source": [
    "def permute(s, path=\"\"):\n",
    "    if not s:\n",
    "        print(path)\n",
    "    for i in range(len(s)):\n",
    "        permute(s[:i] + s[i+1:], path + s[i])\n",
    "\n",
    "user_input = input(\"Enter a string: \")\n",
    "permute(user_input)\n"
   ]
  },
  {
   "cell_type": "markdown",
   "metadata": {},
   "source": [
    "6. Reversed string "
   ]
  },
  {
   "cell_type": "code",
   "execution_count": 4,
   "metadata": {},
   "outputs": [
    {
     "name": "stdout",
     "output_type": "stream",
     "text": [
      "friend my hi\n"
     ]
    }
   ],
   "source": [
    "def reversed_string(s):\n",
    "    words = s.split()\n",
    "    return \" \".join(reversed(words))\n",
    "\n",
    "user_input = input(\"Enter a string: \")\n",
    "print(reversed_string(user_input))"
   ]
  },
  {
   "cell_type": "markdown",
   "metadata": {},
   "source": [
    "7. Has 33"
   ]
  },
  {
   "cell_type": "code",
   "execution_count": 16,
   "metadata": {},
   "outputs": [
    {
     "data": {
      "text/plain": [
       "True"
      ]
     },
     "execution_count": 16,
     "metadata": {},
     "output_type": "execute_result"
    }
   ],
   "source": [
    "def has_33(nums):\n",
    "    for i in range(len(nums) - 1):\n",
    "        if nums[i] == nums[i+1] or nums[i] == nums[i-1]:\n",
    "            return True\n",
    "    return False\n",
    "\n",
    "has_33([1, 3, 2, 3, 4, 3, 3])\n",
    "            "
   ]
  },
  {
   "cell_type": "markdown",
   "metadata": {},
   "source": [
    "8. Has 007"
   ]
  },
  {
   "cell_type": "code",
   "execution_count": 27,
   "metadata": {},
   "outputs": [
    {
     "data": {
      "text/plain": [
       "False"
      ]
     },
     "execution_count": 27,
     "metadata": {},
     "output_type": "execute_result"
    }
   ],
   "source": [
    "def has_007(nums):\n",
    "    check = []\n",
    "    target = [0, 0, 7]\n",
    "    for i in nums:\n",
    "        if i == 0 or i == 7:\n",
    "            check.append(i)\n",
    "    \n",
    "    if check == target:\n",
    "        return True\n",
    "    else:\n",
    "        return False\n",
    "    \n",
    "has_007([1,0,2,4,0,5,7])"
   ]
  },
  {
   "cell_type": "markdown",
   "metadata": {},
   "source": [
    "9. Sphere radius"
   ]
  },
  {
   "cell_type": "code",
   "execution_count": 29,
   "metadata": {},
   "outputs": [
    {
     "name": "stdout",
     "output_type": "stream",
     "text": [
      "267.94666666666666\n"
     ]
    }
   ],
   "source": [
    "def sphere_volume(r):\n",
    "    pi = 3.14\n",
    "    volume = (4 / 3) * pi * (r**3)\n",
    "    return volume\n",
    "\n",
    "print(sphere_volume(4))"
   ]
  },
  {
   "cell_type": "markdown",
   "metadata": {},
   "source": [
    "10. Unique list"
   ]
  },
  {
   "cell_type": "code",
   "execution_count": 33,
   "metadata": {},
   "outputs": [
    {
     "name": "stdout",
     "output_type": "stream",
     "text": [
      "[1, 5]\n"
     ]
    }
   ],
   "source": [
    "def unique(nums):\n",
    "    final = []\n",
    "    for num in nums:\n",
    "        if nums.count(num) == 1:\n",
    "            final.append(num)\n",
    "            \n",
    "    return final\n",
    "\n",
    "print(unique([1, 2, 3, 4, 4, 3, 2, 5]))"
   ]
  },
  {
   "cell_type": "markdown",
   "metadata": {},
   "source": [
    "11. Palindrome"
   ]
  },
  {
   "cell_type": "code",
   "execution_count": 39,
   "metadata": {},
   "outputs": [
    {
     "name": "stdout",
     "output_type": "stream",
     "text": [
      "Not palindrome\n"
     ]
    }
   ],
   "source": [
    "def palindrome(s):\n",
    "    rev = ''.join(reversed(s))\n",
    "    if s == rev:\n",
    "        print(\"Is palindrome\")\n",
    "    else:\n",
    "        print(\"Not palindrome\")\n",
    "        \n",
    "palindrome(\"alih\")"
   ]
  },
  {
   "cell_type": "markdown",
   "metadata": {},
   "source": [
    "12. Histogram "
   ]
  },
  {
   "cell_type": "code",
   "execution_count": 40,
   "metadata": {},
   "outputs": [
    {
     "name": "stdout",
     "output_type": "stream",
     "text": [
      "**\n",
      "****\n",
      "*********\n"
     ]
    }
   ],
   "source": [
    "def histogram(nums):\n",
    "    for n in nums:\n",
    "        print(\"*\" * n)\n",
    "        \n",
    "histogram([2, 4, 9])"
   ]
  },
  {
   "cell_type": "markdown",
   "metadata": {},
   "source": [
    "13. Guess the number "
   ]
  },
  {
   "cell_type": "code",
   "execution_count": null,
   "metadata": {},
   "outputs": [
    {
     "name": "stdout",
     "output_type": "stream",
     "text": [
      "Your guess is too low.\n",
      "\n",
      "Your guess is too high.\n",
      "\n",
      "Your guess is too high.\n",
      "\n",
      "Your guess is too high.\n",
      "\n",
      "Your guess is too high.\n",
      "\n",
      "Your guess is too low.\n",
      "\n",
      "Your guess is too low.\n",
      "\n",
      "Good job, 14! You guessed my number in 8 gusses!\n"
     ]
    }
   ],
   "source": [
    "import random\n",
    "\n",
    "def game(num):\n",
    "    user_name = input(\"Hello! What is your name?\\n\")\n",
    "    guess = input(f\"Well, {user_name}, I am thinking of a number between 1 and 20.\\nTake a guess.\\n\")\n",
    "    \n",
    "    target = random.randint(1, 20)\n",
    "    guess_count = 1\n",
    "    \n",
    "    while True:\n",
    "        if int(guess) < target:\n",
    "            print(\"Your guess is too low.\\nTake guess.\")\n",
    "        elif int(guess) > target:\n",
    "            print(\"Your guess is too high.\\nTake a guess.\")\n",
    "        else:\n",
    "            print(f\"Good job, {user_name}! You guessed my number in {guess_count} gusses!\")\n",
    "            break\n",
    "        guess = input(\"Take a guess\")\n",
    "        guess_count += 1\n",
    "\n",
    "game(2)"
   ]
  }
 ],
 "metadata": {
  "kernelspec": {
   "display_name": "Python 3",
   "language": "python",
   "name": "python3"
  },
  "language_info": {
   "codemirror_mode": {
    "name": "ipython",
    "version": 3
   },
   "file_extension": ".py",
   "mimetype": "text/x-python",
   "name": "python",
   "nbconvert_exporter": "python",
   "pygments_lexer": "ipython3",
   "version": "3.13.0"
  }
 },
 "nbformat": 4,
 "nbformat_minor": 2
}
