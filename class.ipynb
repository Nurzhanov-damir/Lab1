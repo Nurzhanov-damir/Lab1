{
 "cells": [
  {
   "cell_type": "markdown",
   "metadata": {},
   "source": [
    "Class"
   ]
  },
  {
   "cell_type": "code",
   "execution_count": 8,
   "metadata": {},
   "outputs": [
    {
     "name": "stdout",
     "output_type": "stream",
     "text": [
      "[2, 3, 5, 7, 11, 13, 17, 19, 23]\n"
     ]
    }
   ],
   "source": [
    "is_prime = lambda n: n > 1 and all(n % i != 0 for i in range(2, int(n ** 0.5) + 1))\n",
    "\n",
    "numbers = [2, 3, 4, 5, 6, 7, 8, 10, 11, 12, 13, 17, 19, 22, 23]\n",
    "\n",
    "prime_numbers = list(filter(is_prime, numbers))\n",
    "\n",
    "print(prime_numbers)"
   ]
  },
  {
   "cell_type": "code",
   "execution_count": 6,
   "metadata": {},
   "outputs": [
    {
     "name": "stdout",
     "output_type": "stream",
     "text": [
      "1200\n",
      "Not enough money\n"
     ]
    }
   ],
   "source": [
    "class Account:\n",
    "    def __init__ (self, owner, balance):\n",
    "        self.owner = owner\n",
    "        self.balance = balance\n",
    "   \n",
    "    def deposit(self, sum):\n",
    "        self.balance += sum\n",
    "        print(self.balance)\n",
    "   \n",
    "    def withdraw(self, sum):\n",
    "        if sum > self.balance:\n",
    "            print(\"Not enough money\")\n",
    "        else:\n",
    "            self.balance -= sum\n",
    "            print(self.balance)\n",
    "       \n",
    "ac = Account(\"me\", 1000)\n",
    "ac.deposit(200)\n",
    "ac.withdraw(1300)"
   ]
  },
  {
   "cell_type": "code",
   "execution_count": 5,
   "metadata": {},
   "outputs": [
    {
     "name": "stdout",
     "output_type": "stream",
     "text": [
      "[2, 4]\n",
      "[0, 7]\n",
      "The distance between two points is: 3.605551275463989\n"
     ]
    }
   ],
   "source": [
    "import math\n",
    " \n",
    "class Point:\n",
    "    def __init__ (self, x1, y1):\n",
    "        self.x1 = x1\n",
    "        self.y1 = y1\n",
    " \n",
    "    def show (self):\n",
    "        return (f\"[{self.x1}, {self.y1}]\")\n",
    "   \n",
    "    def move (self, dx, dy):\n",
    "        self.x1 += dx\n",
    "        self.y1 += dy\n",
    "        return (f\"[{self.x1}, {self.y1}]\")\n",
    "       \n",
    "    def dist(self, op):\n",
    "        x3 = self.x1 - op.x1\n",
    "        y3 = self.y1 - op.y1\n",
    "        return math.sqrt(x3**2 + y3**2)\n",
    "       \n",
    "p1 = Point(2, 4)\n",
    "p2 = Point(3, 9)\n",
    "print(p1.show())\n",
    "print(p1.move(-2, 3))\n",
    " \n",
    "distance = p1.dist(p2)\n",
    "print(f\"The distance between two points is: {distance}\")"
   ]
  },
  {
   "cell_type": "code",
   "execution_count": 4,
   "metadata": {},
   "outputs": [
    {
     "name": "stdout",
     "output_type": "stream",
     "text": [
      "16\n",
      "24\n",
      "0\n"
     ]
    }
   ],
   "source": [
    "class Shape:\n",
    "    def __init__ (self):\n",
    "        pass\n",
    "       \n",
    "    def ar(self):\n",
    "        return 0\n",
    "   \n",
    "class Square(Shape):\n",
    "    def __init__(self, length):\n",
    "        self.length = length\n",
    "       \n",
    "    def ar(self):\n",
    "        return self.length ** 2\n",
    "       \n",
    "class Rectanagle(Shape):\n",
    "    def __init__ (self, length, width):\n",
    "        self.length = length\n",
    "        self.width = width\n",
    "       \n",
    "    def ar(self):\n",
    "        area = self.length * self.width\n",
    "        return area\n",
    "       \n",
    "square = Square(4)\n",
    "print(square.ar())\n",
    " \n",
    "rectangle = Rectanagle(4, 6)\n",
    "print(rectangle.ar())\n",
    " \n",
    "shape = Shape()\n",
    "print(shape.ar())"
   ]
  },
  {
   "cell_type": "code",
   "execution_count": 3,
   "metadata": {},
   "outputs": [
    {
     "name": "stdout",
     "output_type": "stream",
     "text": [
      "16\n",
      "0\n"
     ]
    }
   ],
   "source": [
    "class Shape:\n",
    "    def __init__ (self):\n",
    "        pass\n",
    "       \n",
    "    def ar(self):\n",
    "        return 0\n",
    "   \n",
    "class Square(Shape):\n",
    "    def __init__(self, length):\n",
    "        self.length = length\n",
    "       \n",
    "    def ar(self):\n",
    "        return self.length ** 2\n",
    "       \n",
    "       \n",
    "square = Square(4)\n",
    "print(square.ar())\n",
    " \n",
    " \n",
    "shape = Shape()\n",
    "print(shape.ar())"
   ]
  },
  {
   "cell_type": "code",
   "execution_count": 2,
   "metadata": {},
   "outputs": [
    {
     "name": "stdout",
     "output_type": "stream",
     "text": [
      "HELLO\n"
     ]
    }
   ],
   "source": [
    "class FirstClass:\n",
    "    def __init__ (self, stri):\n",
    "        self.stri = stri\n",
    "       \n",
    "    def getString (self):\n",
    "        self.stri = input(self.stri)\n",
    "   \n",
    "    def printString(self):\n",
    "        print(self.stri.upper())\n",
    "           \n",
    "obj = FirstClass(\"Enter text: \")\n",
    "obj.getString()\n",
    "obj.printString()"
   ]
  }
 ],
 "metadata": {
  "kernelspec": {
   "display_name": "Python 3",
   "language": "python",
   "name": "python3"
  },
  "language_info": {
   "codemirror_mode": {
    "name": "ipython",
    "version": 3
   },
   "file_extension": ".py",
   "mimetype": "text/x-python",
   "name": "python",
   "nbconvert_exporter": "python",
   "pygments_lexer": "ipython3",
   "version": "3.13.0"
  }
 },
 "nbformat": 4,
 "nbformat_minor": 2
}
